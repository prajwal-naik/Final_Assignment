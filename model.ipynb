{
 "cells": [
  {
   "cell_type": "code",
   "execution_count": 1,
   "metadata": {},
   "outputs": [
    {
     "name": "stderr",
     "output_type": "stream",
     "text": [
      "Using TensorFlow backend.\n"
     ]
    }
   ],
   "source": [
    "import sklearn.utils\n",
    "import pandas as pd\n",
    "from keras.models import Sequential\n",
    "from keras.layers import Dense\n",
    "import csv\n",
    "from bs4 import BeautifulSoup\n",
    "import requests"
   ]
  },
  {
   "cell_type": "code",
   "execution_count": 2,
   "metadata": {},
   "outputs": [],
   "source": [
    "def loader(filename):\n",
    "    file=open(filename, \"r\")\n",
    "    lines=csv.reader(file)\n",
    "    dataset=list(lines)\n",
    "    return dataset"
   ]
  },
  {
   "cell_type": "code",
   "execution_count": 3,
   "metadata": {},
   "outputs": [
    {
     "data": {
      "text/plain": [
       "248"
      ]
     },
     "execution_count": 3,
     "metadata": {},
     "output_type": "execute_result"
    }
   ],
   "source": [
    "url='https://karki23.github.io/Weather-Data/assignment.html'\n",
    "sauce=requests.get(url)\n",
    "srccode=BeautifulSoup(sauce.content, \"html.parser\")\n",
    "new_file=open(\"datasets\\\\all_data.csv\", \"w\", newline=\"\")\n",
    "df=pd.read_csv(\"datasets\\\\albury.csv\")\n",
    "writer=csv.writer(new_file)\n",
    "writer.writerow(list(df.keys()))"
   ]
  },
  {
   "cell_type": "code",
   "execution_count": 4,
   "metadata": {},
   "outputs": [],
   "source": [
    "all_cities=srccode.find_all('a')\n",
    "for i in all_cities:\n",
    "    s=i.get('href')[0:len(i)-5:]\n",
    "    file_name=\"datasets\\\\\"+s+\"csv\"\n",
    "    dataset=loader(file_name)\n",
    "    \n",
    "    train_set=dataset[1:]   \n",
    "    for i in train_set:\n",
    "        writer.writerow(i)\n",
    "new_file.close()"
   ]
  },
  {
   "cell_type": "code",
   "execution_count": 5,
   "metadata": {},
   "outputs": [],
   "source": [
    "df = pd.read_csv('datasets\\\\all_data.csv')\n",
    "df=sklearn.utils.shuffle(df)\n",
    "df=df.drop(columns=['Date', 'Location', 'RISK_MM'])"
   ]
  },
  {
   "cell_type": "code",
   "execution_count": 6,
   "metadata": {},
   "outputs": [],
   "source": [
    "df['WindGustDir'] = pd.Categorical(df['WindGustDir'])\n",
    "df['WindGustDir'] = df.WindGustDir.cat.codes\n",
    "df['WindDir9am'] = pd.Categorical(df['WindDir9am'])\n",
    "df['WindDir9am'] = df.WindDir9am.cat.codes\n",
    "df['WindDir3pm'] = pd.Categorical(df['WindDir3pm'])                 #Line 44-53 converts specific column values to descrete numerical values\n",
    "df['WindDir3pm'] = df.WindDir3pm.cat.codes\n",
    "df['RainToday'] = pd.Categorical(df['RainToday'])\n",
    "df['RainToday'] = df.RainToday.cat.codes\n",
    "df['RainTomorrow'] = pd.Categorical(df['RainTomorrow'])\n",
    "df['RainTomorrow'] = df.RainTomorrow.cat.codes"
   ]
  },
  {
   "cell_type": "code",
   "execution_count": 7,
   "metadata": {},
   "outputs": [],
   "source": [
    "df[['WindGustDir', 'WindDir9am', 'WindDir3pm', 'RainToday', 'RainTomorrow']] = df[['WindGustDir', 'WindDir9am', 'WindDir3pm', 'RainToday', 'RainTomorrow']].astype(float)               # This line converts all datatypes to int so that the entire file is made up of single datatype\n"
   ]
  },
  {
   "cell_type": "code",
   "execution_count": 8,
   "metadata": {},
   "outputs": [],
   "source": [
    "for i in df.keys():\n",
    "    df[i].fillna(df[i].mean(), inplace=True)                #Handling missing/NaN values by replacing them with the mean value of each column\n"
   ]
  },
  {
   "cell_type": "code",
   "execution_count": 9,
   "metadata": {},
   "outputs": [],
   "source": [
    "data = df.drop(columns=['RainTomorrow'])\n",
    "target = df[['RainTomorrow']]\n",
    "x_train=data[1: int(0.8*len(data))]\n",
    "y_train=target[1:int(0.8*len(target))]\n",
    "x_test=data[int((0.8*len(data))): ]\n",
    "y_test=target[int((0.8*len(data))): ]"
   ]
  },
  {
   "cell_type": "code",
   "execution_count": 10,
   "metadata": {},
   "outputs": [
    {
     "name": "stderr",
     "output_type": "stream",
     "text": [
      "WARNING: Logging before flag parsing goes to stderr.\n",
      "W0724 12:50:54.174362 32080 deprecation_wrapper.py:119] From C:\\Users\\Prajwal\\Anaconda3\\lib\\site-packages\\keras\\backend\\tensorflow_backend.py:74: The name tf.get_default_graph is deprecated. Please use tf.compat.v1.get_default_graph instead.\n",
      "\n",
      "W0724 12:50:54.194334 32080 deprecation_wrapper.py:119] From C:\\Users\\Prajwal\\Anaconda3\\lib\\site-packages\\keras\\backend\\tensorflow_backend.py:517: The name tf.placeholder is deprecated. Please use tf.compat.v1.placeholder instead.\n",
      "\n",
      "W0724 12:50:54.202324 32080 deprecation_wrapper.py:119] From C:\\Users\\Prajwal\\Anaconda3\\lib\\site-packages\\keras\\backend\\tensorflow_backend.py:4138: The name tf.random_uniform is deprecated. Please use tf.random.uniform instead.\n",
      "\n",
      "W0724 12:50:54.266272 32080 deprecation_wrapper.py:119] From C:\\Users\\Prajwal\\Anaconda3\\lib\\site-packages\\keras\\optimizers.py:790: The name tf.train.Optimizer is deprecated. Please use tf.compat.v1.train.Optimizer instead.\n",
      "\n",
      "W0724 12:50:54.290230 32080 deprecation_wrapper.py:119] From C:\\Users\\Prajwal\\Anaconda3\\lib\\site-packages\\keras\\backend\\tensorflow_backend.py:3376: The name tf.log is deprecated. Please use tf.math.log instead.\n",
      "\n",
      "W0724 12:50:54.294202 32080 deprecation.py:323] From C:\\Users\\Prajwal\\AppData\\Roaming\\Python\\Python37\\site-packages\\tensorflow\\python\\ops\\nn_impl.py:180: add_dispatch_support.<locals>.wrapper (from tensorflow.python.ops.array_ops) is deprecated and will be removed in a future version.\n",
      "Instructions for updating:\n",
      "Use tf.where in 2.0, which has the same broadcast rule as np.where\n"
     ]
    }
   ],
   "source": [
    "model=Sequential()\n",
    "n_cols=data.shape[1]\n",
    "model.add(Dense(21, activation='sigmoid', input_shape=(n_cols,)))\n",
    "model.add(Dense(10, activation='sigmoid'))\n",
    "model.add(Dense(5, activation='sigmoid'))\n",
    "model.add(Dense(1, activation='sigmoid'))\n",
    "model.compile(optimizer='adam', loss='binary_crossentropy', metrics = ['accuracy'])"
   ]
  },
  {
   "cell_type": "code",
   "execution_count": 11,
   "metadata": {},
   "outputs": [
    {
     "name": "stderr",
     "output_type": "stream",
     "text": [
      "W0724 12:50:57.155772 32080 deprecation_wrapper.py:119] From C:\\Users\\Prajwal\\Anaconda3\\lib\\site-packages\\keras\\backend\\tensorflow_backend.py:986: The name tf.assign_add is deprecated. Please use tf.compat.v1.assign_add instead.\n",
      "\n"
     ]
    },
    {
     "name": "stdout",
     "output_type": "stream",
     "text": [
      "Epoch 1/5\n",
      "113753/113753 [==============================] - 4s 32us/step - loss: 0.4326 - acc: 0.8106\n",
      "Epoch 2/5\n",
      "113753/113753 [==============================] - 3s 28us/step - loss: 0.4012 - acc: 0.8324\n",
      "Epoch 3/5\n",
      "113753/113753 [==============================] - 3s 28us/step - loss: 0.3969 - acc: 0.8334\n",
      "Epoch 4/5\n",
      "113753/113753 [==============================] - 3s 29us/step - loss: 0.3995 - acc: 0.8323\n",
      "Epoch 5/5\n",
      "113753/113753 [==============================] - 3s 30us/step - loss: 0.3964 - acc: 0.8347\n"
     ]
    },
    {
     "data": {
      "text/plain": [
       "<keras.callbacks.History at 0x22293c73b38>"
      ]
     },
     "execution_count": 11,
     "metadata": {},
     "output_type": "execute_result"
    }
   ],
   "source": [
    "model.fit(x_train  , y_train, epochs=5)  \n"
   ]
  },
  {
   "cell_type": "code",
   "execution_count": 12,
   "metadata": {},
   "outputs": [
    {
     "name": "stdout",
     "output_type": "stream",
     "text": [
      "28439/28439 [==============================] - 0s 15us/step\n",
      "\n",
      "THE TEST ACCURACY IS :  0.840184254025754\n"
     ]
    }
   ],
   "source": [
    "test_loss, test_acc = model.evaluate(x_test, y_test)\n",
    "print(\"\\nTHE TEST ACCURACY IS : \", test_acc)\n"
   ]
  }
 ],
 "metadata": {
  "kernelspec": {
   "display_name": "Python 3",
   "language": "python",
   "name": "python3"
  },
  "language_info": {
   "codemirror_mode": {
    "name": "ipython",
    "version": 3
   },
   "file_extension": ".py",
   "mimetype": "text/x-python",
   "name": "python",
   "nbconvert_exporter": "python",
   "pygments_lexer": "ipython3",
   "version": "3.7.0"
  }
 },
 "nbformat": 4,
 "nbformat_minor": 2
}
